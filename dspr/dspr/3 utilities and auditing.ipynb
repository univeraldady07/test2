{
 "cells": [
  {
   "cell_type": "markdown",
   "metadata": {
    "id": "gzDD8m4C7TyA"
   },
   "source": [
    "# **Practical No. 3**\n",
    "\n"
   ]
  },
  {
   "cell_type": "markdown",
   "metadata": {
    "id": "zeKGdL4Q7nOY"
   },
   "source": [
    "# **Aim: Bad Data: Removing leading or lagging spaces from string**\n",
    "**Utilities and auditing**\n",
    "> Add blockquote\n",
    "\n"
   ]
  },
  {
   "cell_type": "code",
   "execution_count": null,
   "metadata": {
    "colab": {
     "base_uri": "https://localhost:8080/",
     "height": 53
    },
    "id": "Jqo_GFiGQQ3G",
    "outputId": "a6cfc6d7-9a3b-4e6b-e016-8e980756fc92"
   },
   "outputs": [
    {
     "name": "stdout",
     "output_type": "stream",
     "text": [
      "#1 Removing leading or lagging spaces from a data entry\n"
     ]
    },
    {
     "data": {
      "application/vnd.google.colaboratory.intrinsic+json": {
       "type": "string"
      },
      "text/plain": [
       "' Data Science with too many spaces is bad!!! '"
      ]
     },
     "execution_count": 1,
     "metadata": {},
     "output_type": "execute_result"
    }
   ],
   "source": [
    "import string\n",
    "import datetime as dt\n",
    "print('#1 Removing leading or lagging spaces from a data entry');\n",
    "baddata = \" Data Science with too many spaces is bad!!! \"\n",
    "baddata"
   ]
  },
  {
   "cell_type": "code",
   "execution_count": null,
   "metadata": {
    "colab": {
     "base_uri": "https://localhost:8080/",
     "height": 35
    },
    "id": "BurEkXt_Qj3j",
    "outputId": "c69ada7e-3e4c-4df0-b831-2277cb7fb04b"
   },
   "outputs": [
    {
     "data": {
      "application/vnd.google.colaboratory.intrinsic+json": {
       "type": "string"
      },
      "text/plain": [
       "'Data Science with too many spaces is bad!!! '"
      ]
     },
     "execution_count": 2,
     "metadata": {},
     "output_type": "execute_result"
    }
   ],
   "source": [
    "\n",
    "baddata.lstrip()"
   ]
  },
  {
   "cell_type": "code",
   "execution_count": null,
   "metadata": {
    "colab": {
     "base_uri": "https://localhost:8080/",
     "height": 35
    },
    "id": "htK-ttp6Q1W1",
    "outputId": "eb4ca155-88cb-4b03-c35c-c8eb856bb697"
   },
   "outputs": [
    {
     "data": {
      "application/vnd.google.colaboratory.intrinsic+json": {
       "type": "string"
      },
      "text/plain": [
       "' Data Science with too many spaces is bad!!!'"
      ]
     },
     "execution_count": 3,
     "metadata": {},
     "output_type": "execute_result"
    }
   ],
   "source": [
    "baddata.rstrip()"
   ]
  },
  {
   "cell_type": "code",
   "execution_count": null,
   "metadata": {
    "colab": {
     "base_uri": "https://localhost:8080/",
     "height": 35
    },
    "id": "ZT-BklONQ-IF",
    "outputId": "95117c27-3a7e-4316-abd1-42bba1ae99af"
   },
   "outputs": [
    {
     "data": {
      "application/vnd.google.colaboratory.intrinsic+json": {
       "type": "string"
      },
      "text/plain": [
       "' Data Science with too many spaces is bad!!! '"
      ]
     },
     "execution_count": 4,
     "metadata": {},
     "output_type": "execute_result"
    }
   ],
   "source": [
    "baddata"
   ]
  },
  {
   "cell_type": "code",
   "execution_count": null,
   "metadata": {
    "colab": {
     "base_uri": "https://localhost:8080/",
     "height": 35
    },
    "id": "bWrhcl0vRBQ9",
    "outputId": "e51acfd7-a7d8-41d2-f0d0-5c156f8c96b1"
   },
   "outputs": [
    {
     "data": {
      "application/vnd.google.colaboratory.intrinsic+json": {
       "type": "string"
      },
      "text/plain": [
       "'Data Science with too many spaces is bad!!!'"
      ]
     },
     "execution_count": 5,
     "metadata": {},
     "output_type": "execute_result"
    }
   ],
   "source": [
    "baddata.strip()"
   ]
  },
  {
   "cell_type": "markdown",
   "metadata": {
    "id": "7ZBSFH9PRGyc"
   },
   "source": [
    "2 Removing nonprintable characters from a data entry"
   ]
  },
  {
   "cell_type": "code",
   "execution_count": null,
   "metadata": {
    "colab": {
     "base_uri": "https://localhost:8080/"
    },
    "id": "wK8W0J0iRDxV",
    "outputId": "c0412d63-37bb-44ac-f075-5a130c582a7b"
   },
   "outputs": [
    {
     "name": "stdout",
     "output_type": "stream",
     "text": [
      "#2 Removing nonprintable characters from a data entry\n",
      "Bad Data: Data\u0000Science with\u0002 funny\n"
     ]
    }
   ],
   "source": [
    "print('#2 Removing nonprintable characters from a data entry')\n",
    "printable = set(string.printable)\n",
    "baddata = \"Data\\x00Science with\\x02 funny\"\n",
    "baddata\n",
    "#2 Removing nonprintable characters from a data entry 'Data\\x00Science with\\x02 funny'\n",
    "cleandata=\".join(filter(lambda x:x in string.printable,baddata))\"\n",
    "print('Bad Data:',baddata);"
   ]
  },
  {
   "cell_type": "markdown",
   "metadata": {
    "id": "mzc3_uiHRv_8"
   },
   "source": [
    "3 Reformatting data entry to match specific formatting criteria."
   ]
  },
  {
   "cell_type": "code",
   "execution_count": null,
   "metadata": {
    "colab": {
     "base_uri": "https://localhost:8080/",
     "height": 53
    },
    "id": "MQAJsQ2ZRXKW",
    "outputId": "69181551-6f1a-40f4-ded8-d2c5d033b0ee"
   },
   "outputs": [
    {
     "name": "stdout",
     "output_type": "stream",
     "text": [
      "# 3 Reformatting data entry to match specific formatting criteria.\n"
     ]
    },
    {
     "data": {
      "application/vnd.google.colaboratory.intrinsic+json": {
       "type": "string"
      },
      "text/plain": [
       "'2019-10-31'"
      ]
     },
     "execution_count": 9,
     "metadata": {},
     "output_type": "execute_result"
    }
   ],
   "source": [
    "# Convert YYYY/MM/DD to DD Month YYYY\n",
    "print('# 3 Reformatting data entry to match specific formatting criteria.')\n",
    "baddate= dt.date(2019, 10, 31)\n",
    "baddata= format(baddate,'%Y-%m-%d')\n",
    "baddata"
   ]
  },
  {
   "cell_type": "code",
   "execution_count": null,
   "metadata": {
    "colab": {
     "base_uri": "https://localhost:8080/"
    },
    "id": "57cXprnIR6Zl",
    "outputId": "27c6832d-231c-443e-fafd-56d08281ebfd"
   },
   "outputs": [
    {
     "name": "stdout",
     "output_type": "stream",
     "text": [
      "Bad Data: 2019-10-31\n",
      "Good Data: 31 October 2019\n"
     ]
    }
   ],
   "source": [
    "gooddate= dt.datetime.strptime(baddata, '%Y-%m-%d')\n",
    "gooddata= format(gooddate,'%d %B %Y')\n",
    "print('Bad Data:',baddata)\n",
    "print('Good Data:',gooddata)"
   ]
  }
 ],
 "metadata": {
  "colab": {
   "provenance": []
  },
  "kernelspec": {
   "display_name": "Python 3 (ipykernel)",
   "language": "python",
   "name": "python3"
  },
  "language_info": {
   "codemirror_mode": {
    "name": "ipython",
    "version": 3
   },
   "file_extension": ".py",
   "mimetype": "text/x-python",
   "name": "python",
   "nbconvert_exporter": "python",
   "pygments_lexer": "ipython3",
   "version": "3.12.7"
  }
 },
 "nbformat": 4,
 "nbformat_minor": 4
}
